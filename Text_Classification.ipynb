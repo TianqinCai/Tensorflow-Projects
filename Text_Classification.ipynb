{
 "cells": [
  {
   "cell_type": "markdown",
   "metadata": {},
   "source": [
    "### import tensorflow, keras and numpy"
   ]
  },
  {
   "cell_type": "code",
   "execution_count": 4,
   "metadata": {},
   "outputs": [],
   "source": [
    "import tensorflow as tf\n",
    "from tensorflow import keras"
   ]
  },
  {
   "cell_type": "code",
   "execution_count": 3,
   "metadata": {},
   "outputs": [],
   "source": [
    "import numpy as np"
   ]
  },
  {
   "cell_type": "markdown",
   "metadata": {},
   "source": [
    "### mark our tf version and python version  "
   ]
  },
  {
   "cell_type": "code",
   "execution_count": 5,
   "metadata": {},
   "outputs": [
    {
     "name": "stdout",
     "output_type": "stream",
     "text": [
      "1.12.0\n"
     ]
    }
   ],
   "source": [
    "print(tf.__version__)"
   ]
  },
  {
   "cell_type": "code",
   "execution_count": 6,
   "metadata": {},
   "outputs": [
    {
     "name": "stdout",
     "output_type": "stream",
     "text": [
      "3.6.4 |Anaconda, Inc.| (default, Jan 16 2018, 10:22:32) [MSC v.1900 64 bit (AMD64)]\n"
     ]
    }
   ],
   "source": [
    "import sys\n",
    "print(sys.version)"
   ]
  },
  {
   "cell_type": "markdown",
   "metadata": {},
   "source": [
    "### download IMDB data set "
   ]
  },
  {
   "cell_type": "code",
   "execution_count": 17,
   "metadata": {},
   "outputs": [],
   "source": [
    "# we only kept the 10000 most frequent words\n",
    "imdb = keras.datasets.imdb\n",
    "\n",
    "(train_data, train_labels), (test_data, test_labels) = imdb.load_data(num_words=10000)"
   ]
  },
  {
   "cell_type": "code",
   "execution_count": 18,
   "metadata": {},
   "outputs": [
    {
     "name": "stdout",
     "output_type": "stream",
     "text": [
      "Training entries: 25000, labels: 25000\n"
     ]
    }
   ],
   "source": [
    "# Let's see how many entries we have in the training set\n",
    "print(\"Training entries: {}, labels: {}\".format(len(train_data), len(train_labels)))"
   ]
  },
  {
   "cell_type": "code",
   "execution_count": 9,
   "metadata": {},
   "outputs": [
    {
     "name": "stdout",
     "output_type": "stream",
     "text": [
      "[1, 14, 22, 16, 43, 530, 973, 1622, 1385, 65, 458, 4468, 66, 3941, 4, 173, 36, 256, 5, 25, 100, 43, 838, 112, 50, 670, 2, 9, 35, 480, 284, 5, 150, 4, 172, 112, 167, 2, 336, 385, 39, 4, 172, 4536, 1111, 17, 546, 38, 13, 447, 4, 192, 50, 16, 6, 147, 2025, 19, 14, 22, 4, 1920, 4613, 469, 4, 22, 71, 87, 12, 16, 43, 530, 38, 76, 15, 13, 1247, 4, 22, 17, 515, 17, 12, 16, 626, 18, 2, 5, 62, 386, 12, 8, 316, 8, 106, 5, 4, 2223, 5244, 16, 480, 66, 3785, 33, 4, 130, 12, 16, 38, 619, 5, 25, 124, 51, 36, 135, 48, 25, 1415, 33, 6, 22, 12, 215, 28, 77, 52, 5, 14, 407, 16, 82, 2, 8, 4, 107, 117, 5952, 15, 256, 4, 2, 7, 3766, 5, 723, 36, 71, 43, 530, 476, 26, 400, 317, 46, 7, 4, 2, 1029, 13, 104, 88, 4, 381, 15, 297, 98, 32, 2071, 56, 26, 141, 6, 194, 7486, 18, 4, 226, 22, 21, 134, 476, 26, 480, 5, 144, 30, 5535, 18, 51, 36, 28, 224, 92, 25, 104, 4, 226, 65, 16, 38, 1334, 88, 12, 16, 283, 5, 16, 4472, 113, 103, 32, 15, 16, 5345, 19, 178, 32]\n"
     ]
    }
   ],
   "source": [
    "# The word in the comments are transfered to integers, as shown in the first comment\n",
    "print(train_data[0])"
   ]
  },
  {
   "cell_type": "code",
   "execution_count": 19,
   "metadata": {},
   "outputs": [
    {
     "data": {
      "text/plain": [
       "(218, 189)"
      ]
     },
     "execution_count": 19,
     "metadata": {},
     "output_type": "execute_result"
    }
   ],
   "source": [
    "# The words in different comments are not same, as shown below, first comment has 218 words and second comment has 189 words, \n",
    "# we will add padding in the end later \n",
    "len(train_data[0]), len(train_data[1])"
   ]
  },
  {
   "cell_type": "markdown",
   "metadata": {},
   "source": [
    "### decode: change the integer back to word if you want to see the \"real\" comment"
   ]
  },
  {
   "cell_type": "code",
   "execution_count": 11,
   "metadata": {},
   "outputs": [],
   "source": [
    "# A dictionary mapping words to an integer index\n",
    "word_index = imdb.get_word_index()"
   ]
  },
  {
   "cell_type": "code",
   "execution_count": 12,
   "metadata": {},
   "outputs": [],
   "source": [
    "# The first indices are reserved\n",
    "word_index = {k:(v+3) for k,v in word_index.items()}\n",
    "word_index[\"<PAD>\"] = 0\n",
    "word_index[\"<START>\"] = 1\n",
    "word_index[\"<UNK>\"] = 2  # unknown\n",
    "word_index[\"<UNUSED>\"] = 3\n",
    "\n",
    "# reverse the key-value using regular expression\n",
    "reverse_word_index = dict([(value, key) for (key, value) in word_index.items()])\n",
    "\n",
    "# we use this function to join the words sequence with space\n",
    "def decode_review(text):\n",
    "    return ' '.join([reverse_word_index.get(i, '?') for i in text])"
   ]
  },
  {
   "cell_type": "code",
   "execution_count": 13,
   "metadata": {},
   "outputs": [
    {
     "data": {
      "text/plain": [
       "\"<START> this film was just brilliant casting location scenery story direction everyone's really suited the part they played and you could just imagine being there robert <UNK> is an amazing actor and now the same being director <UNK> father came from the same scottish island as myself so i loved the fact there was a real connection with this film the witty remarks throughout the film were great it was just brilliant so much that i bought the film as soon as it was released for <UNK> and would recommend it to everyone to watch and the fly fishing was amazing really cried at the end it was so sad and you know what they say if you cry at a film it must have been good and this definitely was also <UNK> to the two little boy's that played the <UNK> of norman and paul they were just brilliant children are often left out of the <UNK> list i think because the stars that play them all grown up are such a big profile for the whole film but these children are amazing and should be praised for what they have done don't you think the whole story was so lovely because it was true and was someone's life after all that was shared with us all\""
      ]
     },
     "execution_count": 13,
     "metadata": {},
     "output_type": "execute_result"
    }
   ],
   "source": [
    "# now we can see the content in the first comment\n",
    "decode_review(train_data[0])"
   ]
  },
  {
   "cell_type": "markdown",
   "metadata": {},
   "source": [
    "### Preprocessing Data "
   ]
  },
  {
   "cell_type": "markdown",
   "metadata": {},
   "source": [
    "There are two ways to treat with the input data. We chose to add padding (which has the index of 0) to the end to make the all the commnet has length 256"
   ]
  },
  {
   "cell_type": "code",
   "execution_count": 20,
   "metadata": {},
   "outputs": [],
   "source": [
    "train_data = keras.preprocessing.sequence.pad_sequences(train_data,\n",
    "                                                        value=word_index[\"<PAD>\"],\n",
    "                                                        padding='post',\n",
    "                                                        maxlen=256)\n",
    "\n",
    "test_data = keras.preprocessing.sequence.pad_sequences(test_data,\n",
    "                                                       value=word_index[\"<PAD>\"],\n",
    "                                                       padding='post',\n",
    "                                                       maxlen=256)"
   ]
  },
  {
   "cell_type": "markdown",
   "metadata": {},
   "source": [
    "Now let's check if the first two comments has length 256"
   ]
  },
  {
   "cell_type": "code",
   "execution_count": 21,
   "metadata": {},
   "outputs": [
    {
     "data": {
      "text/plain": [
       "(256, 256)"
      ]
     },
     "execution_count": 21,
     "metadata": {},
     "output_type": "execute_result"
    }
   ],
   "source": [
    "len(train_data[0]), len(train_data[1])"
   ]
  },
  {
   "cell_type": "markdown",
   "metadata": {},
   "source": [
    "We can see the paddings with value 0 in the end"
   ]
  },
  {
   "cell_type": "code",
   "execution_count": 22,
   "metadata": {},
   "outputs": [
    {
     "name": "stdout",
     "output_type": "stream",
     "text": [
      "[   1   14   22   16   43  530  973 1622 1385   65  458 4468   66 3941\n",
      "    4  173   36  256    5   25  100   43  838  112   50  670    2    9\n",
      "   35  480  284    5  150    4  172  112  167    2  336  385   39    4\n",
      "  172 4536 1111   17  546   38   13  447    4  192   50   16    6  147\n",
      " 2025   19   14   22    4 1920 4613  469    4   22   71   87   12   16\n",
      "   43  530   38   76   15   13 1247    4   22   17  515   17   12   16\n",
      "  626   18    2    5   62  386   12    8  316    8  106    5    4 2223\n",
      " 5244   16  480   66 3785   33    4  130   12   16   38  619    5   25\n",
      "  124   51   36  135   48   25 1415   33    6   22   12  215   28   77\n",
      "   52    5   14  407   16   82    2    8    4  107  117 5952   15  256\n",
      "    4    2    7 3766    5  723   36   71   43  530  476   26  400  317\n",
      "   46    7    4    2 1029   13  104   88    4  381   15  297   98   32\n",
      " 2071   56   26  141    6  194 7486   18    4  226   22   21  134  476\n",
      "   26  480    5  144   30 5535   18   51   36   28  224   92   25  104\n",
      "    4  226   65   16   38 1334   88   12   16  283    5   16 4472  113\n",
      "  103   32   15   16 5345   19  178   32    0    0    0    0    0    0\n",
      "    0    0    0    0    0    0    0    0    0    0    0    0    0    0\n",
      "    0    0    0    0    0    0    0    0    0    0    0    0    0    0\n",
      "    0    0    0    0]\n"
     ]
    }
   ],
   "source": [
    "print(train_data[0])"
   ]
  },
  {
   "cell_type": "markdown",
   "metadata": {},
   "source": [
    "### Build the model "
   ]
  },
  {
   "cell_type": "code",
   "execution_count": 33,
   "metadata": {},
   "outputs": [
    {
     "name": "stdout",
     "output_type": "stream",
     "text": [
      "_________________________________________________________________\n",
      "Layer (type)                 Output Shape              Param #   \n",
      "=================================================================\n",
      "embedding_1 (Embedding)      (None, None, 16)          160000    \n",
      "_________________________________________________________________\n",
      "global_average_pooling1d_1 ( (None, 16)                0         \n",
      "_________________________________________________________________\n",
      "dense_2 (Dense)              (None, 16)                272       \n",
      "_________________________________________________________________\n",
      "dense_3 (Dense)              (None, 1)                 17        \n",
      "=================================================================\n",
      "Total params: 160,289\n",
      "Trainable params: 160,289\n",
      "Non-trainable params: 0\n",
      "_________________________________________________________________\n"
     ]
    }
   ],
   "source": [
    "# input shape is the vocabulary count used for the movie reviews (10,000 words)\n",
    "vocab_size = 10000\n",
    "\n",
    "model = keras.Sequential()\n",
    "model.add(keras.layers.Embedding(vocab_size, 16))\n",
    "model.add(keras.layers.GlobalAveragePooling1D())\n",
    "model.add(keras.layers.Dense(16, activation=tf.nn.relu))\n",
    "model.add(keras.layers.Dense(1, activation=tf.nn.sigmoid))\n",
    "\n",
    "model.summary()"
   ]
  },
  {
   "cell_type": "code",
   "execution_count": 34,
   "metadata": {},
   "outputs": [],
   "source": [
    "model.compile(optimizer=tf.train.AdamOptimizer(),\n",
    "              loss='binary_crossentropy',\n",
    "              metrics=['accuracy'])"
   ]
  },
  {
   "cell_type": "markdown",
   "metadata": {},
   "source": [
    "### Build the test set "
   ]
  },
  {
   "cell_type": "code",
   "execution_count": 35,
   "metadata": {},
   "outputs": [],
   "source": [
    "x_val = train_data[:10000]\n",
    "partial_x_train = train_data[10000:]\n",
    "\n",
    "y_val = train_labels[:10000]\n",
    "partial_y_train = train_labels[10000:]"
   ]
  },
  {
   "cell_type": "markdown",
   "metadata": {},
   "source": [
    "### Training "
   ]
  },
  {
   "cell_type": "code",
   "execution_count": 36,
   "metadata": {},
   "outputs": [
    {
     "name": "stdout",
     "output_type": "stream",
     "text": [
      "Train on 15000 samples, validate on 10000 samples\n",
      "Epoch 1/40\n",
      "15000/15000 [==============================] - 1s 92us/step - loss: 0.6918 - acc: 0.5499 - val_loss: 0.6901 - val_acc: 0.5650\n",
      "Epoch 2/40\n",
      "15000/15000 [==============================] - 1s 73us/step - loss: 0.6865 - acc: 0.6057 - val_loss: 0.6831 - val_acc: 0.5929\n",
      "Epoch 3/40\n",
      "15000/15000 [==============================] - 1s 75us/step - loss: 0.6749 - acc: 0.6897 - val_loss: 0.6687 - val_acc: 0.7336\n",
      "Epoch 4/40\n",
      "15000/15000 [==============================] - 1s 75us/step - loss: 0.6549 - acc: 0.7510 - val_loss: 0.6461 - val_acc: 0.7571\n",
      "Epoch 5/40\n",
      "15000/15000 [==============================] - 1s 73us/step - loss: 0.6255 - acc: 0.7800 - val_loss: 0.6155 - val_acc: 0.7788\n",
      "Epoch 6/40\n",
      "15000/15000 [==============================] - 1s 74us/step - loss: 0.5883 - acc: 0.8023 - val_loss: 0.5792 - val_acc: 0.7969\n",
      "Epoch 7/40\n",
      "15000/15000 [==============================] - 1s 83us/step - loss: 0.5464 - acc: 0.8239 - val_loss: 0.5403 - val_acc: 0.8135\n",
      "Epoch 8/40\n",
      "15000/15000 [==============================] - 1s 77us/step - loss: 0.5027 - acc: 0.8405 - val_loss: 0.5012 - val_acc: 0.8272\n",
      "Epoch 9/40\n",
      "15000/15000 [==============================] - 1s 75us/step - loss: 0.4605 - acc: 0.8558 - val_loss: 0.4649 - val_acc: 0.8388\n",
      "Epoch 10/40\n",
      "15000/15000 [==============================] - 1s 75us/step - loss: 0.4221 - acc: 0.8669 - val_loss: 0.4342 - val_acc: 0.8465\n",
      "Epoch 11/40\n",
      "15000/15000 [==============================] - 1s 76us/step - loss: 0.3881 - acc: 0.8773 - val_loss: 0.4062 - val_acc: 0.8541\n",
      "Epoch 12/40\n",
      "15000/15000 [==============================] - 1s 70us/step - loss: 0.3589 - acc: 0.8852 - val_loss: 0.3846 - val_acc: 0.8588\n",
      "Epoch 13/40\n",
      "15000/15000 [==============================] - 1s 77us/step - loss: 0.3341 - acc: 0.8915 - val_loss: 0.3660 - val_acc: 0.8652\n",
      "Epoch 14/40\n",
      "15000/15000 [==============================] - 1s 71us/step - loss: 0.3125 - acc: 0.8967 - val_loss: 0.3513 - val_acc: 0.8693\n",
      "Epoch 15/40\n",
      "15000/15000 [==============================] - 1s 72us/step - loss: 0.2941 - acc: 0.9008 - val_loss: 0.3393 - val_acc: 0.8711\n",
      "Epoch 16/40\n",
      "15000/15000 [==============================] - 1s 69us/step - loss: 0.2773 - acc: 0.9061 - val_loss: 0.3289 - val_acc: 0.8741\n",
      "Epoch 17/40\n",
      "15000/15000 [==============================] - 1s 71us/step - loss: 0.2630 - acc: 0.9113 - val_loss: 0.3206 - val_acc: 0.8775\n",
      "Epoch 18/40\n",
      "15000/15000 [==============================] - 1s 85us/step - loss: 0.2497 - acc: 0.9159 - val_loss: 0.3133 - val_acc: 0.8797\n",
      "Epoch 19/40\n",
      "15000/15000 [==============================] - 1s 88us/step - loss: 0.2377 - acc: 0.9191 - val_loss: 0.3087 - val_acc: 0.8782\n",
      "Epoch 20/40\n",
      "15000/15000 [==============================] - 1s 78us/step - loss: 0.2277 - acc: 0.9207 - val_loss: 0.3030 - val_acc: 0.8806\n",
      "Epoch 21/40\n",
      "15000/15000 [==============================] - 1s 82us/step - loss: 0.2168 - acc: 0.9253 - val_loss: 0.2992 - val_acc: 0.8807\n",
      "Epoch 22/40\n",
      "15000/15000 [==============================] - 1s 80us/step - loss: 0.2077 - acc: 0.9294 - val_loss: 0.2954 - val_acc: 0.8820\n",
      "Epoch 23/40\n",
      "15000/15000 [==============================] - 1s 81us/step - loss: 0.1990 - acc: 0.9325 - val_loss: 0.2925 - val_acc: 0.8831\n",
      "Epoch 24/40\n",
      "15000/15000 [==============================] - 1s 84us/step - loss: 0.1910 - acc: 0.9363 - val_loss: 0.2902 - val_acc: 0.8833\n",
      "Epoch 25/40\n",
      "15000/15000 [==============================] - 1s 78us/step - loss: 0.1833 - acc: 0.9393 - val_loss: 0.2898 - val_acc: 0.8841\n",
      "Epoch 26/40\n",
      "15000/15000 [==============================] - 1s 77us/step - loss: 0.1760 - acc: 0.9420 - val_loss: 0.2876 - val_acc: 0.8843\n",
      "Epoch 27/40\n",
      "15000/15000 [==============================] - 1s 77us/step - loss: 0.1691 - acc: 0.9463 - val_loss: 0.2870 - val_acc: 0.8848\n",
      "Epoch 28/40\n",
      "15000/15000 [==============================] - 1s 74us/step - loss: 0.1626 - acc: 0.9485 - val_loss: 0.2868 - val_acc: 0.8849\n",
      "Epoch 29/40\n",
      "15000/15000 [==============================] - 1s 73us/step - loss: 0.1564 - acc: 0.9514 - val_loss: 0.2868 - val_acc: 0.8855\n",
      "Epoch 30/40\n",
      "15000/15000 [==============================] - 1s 74us/step - loss: 0.1510 - acc: 0.9537 - val_loss: 0.2869 - val_acc: 0.8854\n",
      "Epoch 31/40\n",
      "15000/15000 [==============================] - 1s 84us/step - loss: 0.1456 - acc: 0.9557 - val_loss: 0.2869 - val_acc: 0.8859\n",
      "Epoch 32/40\n",
      "15000/15000 [==============================] - 1s 93us/step - loss: 0.1398 - acc: 0.9579 - val_loss: 0.2881 - val_acc: 0.8865\n",
      "Epoch 33/40\n",
      "15000/15000 [==============================] - 1s 82us/step - loss: 0.1347 - acc: 0.9599 - val_loss: 0.2894 - val_acc: 0.8862\n",
      "Epoch 34/40\n",
      "15000/15000 [==============================] - 1s 75us/step - loss: 0.1300 - acc: 0.9616 - val_loss: 0.2898 - val_acc: 0.8866\n",
      "Epoch 35/40\n",
      "15000/15000 [==============================] - 1s 71us/step - loss: 0.1255 - acc: 0.9643 - val_loss: 0.2917 - val_acc: 0.8859\n",
      "Epoch 36/40\n",
      "15000/15000 [==============================] - 1s 71us/step - loss: 0.1211 - acc: 0.9657 - val_loss: 0.2929 - val_acc: 0.8856\n",
      "Epoch 37/40\n",
      "15000/15000 [==============================] - 1s 69us/step - loss: 0.1166 - acc: 0.9671 - val_loss: 0.2951 - val_acc: 0.8863\n",
      "Epoch 38/40\n",
      "15000/15000 [==============================] - 1s 70us/step - loss: 0.1124 - acc: 0.9691 - val_loss: 0.2970 - val_acc: 0.8861\n",
      "Epoch 39/40\n",
      "15000/15000 [==============================] - 1s 72us/step - loss: 0.1086 - acc: 0.9703 - val_loss: 0.2993 - val_acc: 0.8851\n",
      "Epoch 40/40\n",
      "15000/15000 [==============================] - 1s 76us/step - loss: 0.1045 - acc: 0.9721 - val_loss: 0.3018 - val_acc: 0.8841\n"
     ]
    }
   ],
   "source": [
    "history = model.fit(partial_x_train,\n",
    "                    partial_y_train,\n",
    "                    epochs=40,\n",
    "                    batch_size=512,\n",
    "                    validation_data=(x_val, y_val),\n",
    "                    verbose=1)"
   ]
  },
  {
   "cell_type": "markdown",
   "metadata": {},
   "source": [
    "### Evaluation"
   ]
  },
  {
   "cell_type": "code",
   "execution_count": 37,
   "metadata": {},
   "outputs": [
    {
     "name": "stdout",
     "output_type": "stream",
     "text": [
      "25000/25000 [==============================] - 1s 27us/step\n",
      "[0.32192854139328003, 0.87272]\n"
     ]
    }
   ],
   "source": [
    "# the results shows two numbers: the loss (the smaller the better) and accuracy (the higher the better)\n",
    "results = model.evaluate(test_data, test_labels)\n",
    "\n",
    "print(results) "
   ]
  },
  {
   "cell_type": "code",
   "execution_count": 38,
   "metadata": {},
   "outputs": [
    {
     "data": {
      "text/plain": [
       "dict_keys(['val_loss', 'val_acc', 'loss', 'acc'])"
      ]
     },
     "execution_count": 38,
     "metadata": {},
     "output_type": "execute_result"
    }
   ],
   "source": [
    "# if we want to see the tendency of loss and accuracy through epoches, we can get the information from history object from model.fit()\n",
    "history_dict = history.history\n",
    "history_dict.keys()"
   ]
  },
  {
   "cell_type": "code",
   "execution_count": 39,
   "metadata": {},
   "outputs": [
    {
     "data": {
      "image/png": "[encoded data removed]",
      "text/plain": [
       "<matplotlib.figure.Figure at 0x1c245d86940>"
      ]
     },
     "metadata": {},
     "output_type": "display_data"
    }
   ],
   "source": [
    "import matplotlib.pyplot as plt\n",
    "\n",
    "acc = history.history['acc']\n",
    "val_acc = history.history['val_acc']\n",
    "loss = history.history['loss']\n",
    "val_loss = history.history['val_loss']\n",
    "\n",
    "epochs = range(1, len(acc) + 1)\n",
    "\n",
    "# \"bo\" is for \"blue dot\"\n",
    "plt.plot(epochs, loss, 'bo', label='Training loss')\n",
    "# b is for \"solid blue line\"\n",
    "plt.plot(epochs, val_loss, 'b', label='Validation loss')\n",
    "plt.title('Training and validation loss')\n",
    "plt.xlabel('Epochs')\n",
    "plt.ylabel('Loss')\n",
    "plt.legend()\n",
    "\n",
    "plt.show()"
   ]
  },
  {
   "cell_type": "code",
   "execution_count": 40,
   "metadata": {},
   "outputs": [
    {
     "data": {
      "image/png": "[encoded data removed]",
      "text/plain": [
       "<matplotlib.figure.Figure at 0x1c23d8e1860>"
      ]
     },
     "metadata": {},
     "output_type": "display_data"
    }
   ],
   "source": [
    "plt.clf()   # clear figure\n",
    "acc_values = history_dict['acc']\n",
    "val_acc_values = history_dict['val_acc']\n",
    "\n",
    "plt.plot(epochs, acc, 'bo', label='Training acc')\n",
    "plt.plot(epochs, val_acc, 'b', label='Validation acc')\n",
    "plt.title('Training and validation accuracy')\n",
    "plt.xlabel('Epochs')\n",
    "plt.ylabel('Accuracy')\n",
    "plt.legend()\n",
    "\n",
    "plt.show()"
   ]
  },
  {
   "cell_type": "markdown",
   "metadata": {},
   "source": [
    "### Now we see the validation acc converges after 20 epochs while training acc still going up, this is a typical overfitting. We will deal with overfitting in the following trials "
   ]
  }
 ],
 "metadata": {
  "kernelspec": {
   "display_name": "Python 3",
   "language": "python",
   "name": "python3"
  },
  "language_info": {
   "codemirror_mode": {
    "name": "ipython",
    "version": 3
   },
   "file_extension": ".py",
   "mimetype": "text/x-python",
   "name": "python",
   "nbconvert_exporter": "python",
   "pygments_lexer": "ipython3",
   "version": "3.6.4"
  }
 },
 "nbformat": 4,
 "nbformat_minor": 2
}
